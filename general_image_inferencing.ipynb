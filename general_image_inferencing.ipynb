{
 "cells": [
  {
   "cell_type": "markdown",
   "metadata": {},
   "source": [
    "# General Image Inferencing\n",
    "\n",
    "This is a demonstration of a generalized framework to get inferences from classification, object detection, and semantic segmentation models using TensorFlow Serving. This work is heavily based on [the object_detection section of the TensorFlow Models repository](https://github.com/tensorflow/models/tree/master/research/object_detection). \n",
    "\n",
    "## Model Specification\n",
    "\n",
    "This notebook is a demonstration of a single system which could be used for inferencing on any number of classification, object detection, or semantic segmentation models. To make this possible, the model being served has to conform to a specification.\n",
    "\n",
    "### Input\n",
    "\n",
    "let `n_img` := 1. TODO: Allow processing of more than one image at a time?\n",
    "\n",
    "- `inputs`, type: `uint8`, shape: `[n_img, -1, -1, 3]`. This is the image. \n",
    "\n",
    "### Output\n",
    "\n",
    "- `num_detections`, type: `int`, shape: `[n_img]`. The value of this field is always less than or equal to `len_detections`.\n",
    "- `detection_classes`, type: `int`, shape: `[n_img, len_detections]`. Class identifier. \n",
    "- `detection_scores`, type: `float`, shape: `[n_img, len_detections]`. Confidence level.\n",
    "- `detection_boxes`, type: `float`, shape: `[n_img, len_detections, 4]`. Values are on `[0,1)`, representing the bounds of the boxes. (object detection & semantic segmentation only)\n",
    "- `detection_masks`, type: `int`, shape: `[n_img, len_detections, -1, -1]`. Value is either `1` or `0`, meaning to be described. (semantic segmentation only)\n",
    "\n",
    "## Serving the model\n",
    "\n",
    "Do something like:\n",
    "\n",
    "```sudo docker run -it -p 8500:8500 --mount type=bind,source=<path to model>,target=/models/<model name> -e MODEL_NAME=<model name> -t tensorflow/serving```"
   ]
  },
  {
   "cell_type": "code",
   "execution_count": 1,
   "metadata": {},
   "outputs": [],
   "source": [
    "import grpc\n",
    "import tensorflow as tf\n",
    "from PIL import Image\n",
    "import numpy as np\n",
    "\n",
    "from tensorflow_serving.apis import predict_pb2\n",
    "from tensorflow_serving.apis import prediction_service_pb2_grpc\n",
    "\n",
    "import label_map_util"
   ]
  },
  {
   "cell_type": "markdown",
   "metadata": {},
   "source": [
    "## Configuring this Notebook\n",
    "\n",
    "`SERVER_ADDR`: The address of the TensorFlow Serving server.  \n",
    "`MODEL_SPEC_NAME`: The name of the model, which you specified when you started the TensorFlow Serving server.  \n",
    "`IMAGE_PATH`: The path to the image you want to inference on.  \n",
    "`LABEL_MAP_PATH`: The path to a text-format protobuf which provides mapping from the integer class identifiers your model uses to their textual descriptions.  "
   ]
  },
  {
   "cell_type": "code",
   "execution_count": 2,
   "metadata": {},
   "outputs": [],
   "source": [
    "SERVER_ADDR = 'localhost:8500'\n",
    "MODEL_SPEC_NAME = '23'\n",
    "IMAGE_PATH = './brompton.jpg'\n",
    "LABEL_MAP_PATH = 'data/mscoco_label_map.pbtxt'"
   ]
  },
  {
   "cell_type": "code",
   "execution_count": 3,
   "metadata": {},
   "outputs": [],
   "source": [
    "im = Image.open(IMAGE_PATH)\n",
    "numpy_ary = np.array([np.array(im, dtype=np.uint8)])"
   ]
  },
  {
   "cell_type": "code",
   "execution_count": 4,
   "metadata": {},
   "outputs": [],
   "source": [
    "channel = grpc.insecure_channel(SERVER_ADDR)\n",
    "stub = prediction_service_pb2_grpc.PredictionServiceStub(channel)"
   ]
  },
  {
   "cell_type": "code",
   "execution_count": 5,
   "metadata": {},
   "outputs": [],
   "source": [
    "request = predict_pb2.PredictRequest()\n",
    "request.model_spec.name = MODEL_SPEC_NAME\n",
    "request.inputs['inputs'].CopyFrom(tf.contrib.util.make_tensor_proto(numpy_ary))"
   ]
  },
  {
   "cell_type": "code",
   "execution_count": 6,
   "metadata": {},
   "outputs": [],
   "source": [
    "result = stub.Predict(request, 10.0)"
   ]
  },
  {
   "cell_type": "code",
   "execution_count": 7,
   "metadata": {},
   "outputs": [],
   "source": [
    "label_map = label_map_util.create_category_index_from_labelmap(LABEL_MAP_PATH, use_display_name=True)"
   ]
  },
  {
   "cell_type": "code",
   "execution_count": 8,
   "metadata": {},
   "outputs": [
    {
     "name": "stdout",
     "output_type": "stream",
     "text": [
      "person 0.963925838470459\n",
      "person 0.9449862241744995\n",
      "bicycle 0.9167641997337341\n",
      "person 0.8627572655677795\n",
      "handbag 0.654525876045227\n",
      "person 0.6309804916381836\n",
      "car 0.6057604551315308\n",
      "car 0.595432698726654\n",
      "car 0.5520927309989929\n",
      "bicycle 0.4168332815170288\n",
      "bicycle 0.357604056596756\n",
      "car 0.3359058201313019\n",
      "truck 0.32337236404418945\n",
      "person 0.2555420994758606\n",
      "handbag 0.22566813230514526\n",
      "person 0.2144150286912918\n",
      "bicycle 0.21365347504615784\n",
      "bicycle 0.17084233462810516\n",
      "skateboard 0.16359734535217285\n",
      "bicycle 0.15253078937530518\n",
      "person 0.12370678782463074\n",
      "bicycle 0.12173733115196228\n",
      "bicycle 0.11699391901493073\n",
      "bicycle 0.11693298816680908\n",
      "bicycle 0.11648998409509659\n",
      "handbag 0.11604130268096924\n",
      "bicycle 0.1125880554318428\n",
      "motorcycle 0.11031841486692429\n",
      "backpack 0.10968058556318283\n",
      "bicycle 0.1078219935297966\n",
      "car 0.10715402662754059\n",
      "traffic light 0.10337898135185242\n",
      "bicycle 0.10292237251996994\n",
      "bicycle 0.10136948525905609\n"
     ]
    }
   ],
   "source": [
    "num_detections = int(result.outputs['num_detections'].float_val[0])\n",
    "classes = result.outputs['detection_classes'].float_val[:num_detections]\n",
    "scores = result.outputs['detection_scores'].float_val[:num_detections]\n",
    "\n",
    "for i in range(num_detections):\n",
    "    if scores[i] > 0.10:\n",
    "        print(label_map[int(classes[i])]['name'], scores[i])"
   ]
  }
 ],
 "metadata": {
  "kernelspec": {
   "display_name": "Python 3",
   "language": "python",
   "name": "python3"
  },
  "language_info": {
   "codemirror_mode": {
    "name": "ipython",
    "version": 3
   },
   "file_extension": ".py",
   "mimetype": "text/x-python",
   "name": "python",
   "nbconvert_exporter": "python",
   "pygments_lexer": "ipython3",
   "version": "3.6.7"
  }
 },
 "nbformat": 4,
 "nbformat_minor": 2
}
